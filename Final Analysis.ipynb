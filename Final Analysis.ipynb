{
 "cells": [
  {
   "cell_type": "markdown",
   "metadata": {},
   "source": [
    "# Importing Data"
   ]
  },
  {
   "cell_type": "code",
   "execution_count": 57,
   "metadata": {},
   "outputs": [
    {
     "data": {
      "text/html": [
       "<div>\n",
       "<style scoped>\n",
       "    .dataframe tbody tr th:only-of-type {\n",
       "        vertical-align: middle;\n",
       "    }\n",
       "\n",
       "    .dataframe tbody tr th {\n",
       "        vertical-align: top;\n",
       "    }\n",
       "\n",
       "    .dataframe thead th {\n",
       "        text-align: right;\n",
       "    }\n",
       "</style>\n",
       "<table border=\"1\" class=\"dataframe\">\n",
       "  <thead>\n",
       "    <tr style=\"text-align: right;\">\n",
       "      <th></th>\n",
       "      <th>date</th>\n",
       "      <th>season</th>\n",
       "      <th>neutral</th>\n",
       "      <th>playoff</th>\n",
       "      <th>team1</th>\n",
       "      <th>team2</th>\n",
       "      <th>passingAtt_Adv</th>\n",
       "      <th>passingYdsG_Adv</th>\n",
       "      <th>passingQBR_Adv</th>\n",
       "      <th>rushingAtt_Adv</th>\n",
       "      <th>...</th>\n",
       "      <th>rushingTDteam2</th>\n",
       "      <th>rushingBigteam2</th>\n",
       "      <th>rushingFumteam2</th>\n",
       "      <th>rushingFumLteam2</th>\n",
       "      <th>team1RushingRank</th>\n",
       "      <th>team1PassingRank</th>\n",
       "      <th>team2RushingRank</th>\n",
       "      <th>team2PassingRank</th>\n",
       "      <th>winPassingRank</th>\n",
       "      <th>winRushingRank</th>\n",
       "    </tr>\n",
       "  </thead>\n",
       "  <tbody>\n",
       "    <tr>\n",
       "      <td>0</td>\n",
       "      <td>9/5/2002</td>\n",
       "      <td>2002</td>\n",
       "      <td>0</td>\n",
       "      <td>0</td>\n",
       "      <td>2002NYG</td>\n",
       "      <td>2002SF</td>\n",
       "      <td>1</td>\n",
       "      <td>0</td>\n",
       "      <td>0</td>\n",
       "      <td>1</td>\n",
       "      <td>...</td>\n",
       "      <td>16</td>\n",
       "      <td>62</td>\n",
       "      <td>6</td>\n",
       "      <td>5</td>\n",
       "      <td>14</td>\n",
       "      <td>6</td>\n",
       "      <td>6</td>\n",
       "      <td>14</td>\n",
       "      <td>6</td>\n",
       "      <td>14</td>\n",
       "    </tr>\n",
       "    <tr>\n",
       "      <td>1</td>\n",
       "      <td>9/8/2002</td>\n",
       "      <td>2002</td>\n",
       "      <td>0</td>\n",
       "      <td>0</td>\n",
       "      <td>2002CLE</td>\n",
       "      <td>2002KC</td>\n",
       "      <td>0</td>\n",
       "      <td>1</td>\n",
       "      <td>1</td>\n",
       "      <td>1</td>\n",
       "      <td>...</td>\n",
       "      <td>26</td>\n",
       "      <td>73</td>\n",
       "      <td>3</td>\n",
       "      <td>1</td>\n",
       "      <td>23</td>\n",
       "      <td>18</td>\n",
       "      <td>3</td>\n",
       "      <td>11</td>\n",
       "      <td>3</td>\n",
       "      <td>11</td>\n",
       "    </tr>\n",
       "    <tr>\n",
       "      <td>2</td>\n",
       "      <td>9/8/2002</td>\n",
       "      <td>2002</td>\n",
       "      <td>0</td>\n",
       "      <td>0</td>\n",
       "      <td>2002CHI</td>\n",
       "      <td>2002MIN</td>\n",
       "      <td>1</td>\n",
       "      <td>1</td>\n",
       "      <td>0</td>\n",
       "      <td>1</td>\n",
       "      <td>...</td>\n",
       "      <td>26</td>\n",
       "      <td>73</td>\n",
       "      <td>14</td>\n",
       "      <td>6</td>\n",
       "      <td>32</td>\n",
       "      <td>24</td>\n",
       "      <td>1</td>\n",
       "      <td>9</td>\n",
       "      <td>32</td>\n",
       "      <td>24</td>\n",
       "    </tr>\n",
       "    <tr>\n",
       "      <td>3</td>\n",
       "      <td>9/8/2002</td>\n",
       "      <td>2002</td>\n",
       "      <td>0</td>\n",
       "      <td>0</td>\n",
       "      <td>2002CAR</td>\n",
       "      <td>2002BAL</td>\n",
       "      <td>1</td>\n",
       "      <td>1</td>\n",
       "      <td>1</td>\n",
       "      <td>0</td>\n",
       "      <td>...</td>\n",
       "      <td>9</td>\n",
       "      <td>43</td>\n",
       "      <td>13</td>\n",
       "      <td>8</td>\n",
       "      <td>25</td>\n",
       "      <td>30</td>\n",
       "      <td>16</td>\n",
       "      <td>27</td>\n",
       "      <td>25</td>\n",
       "      <td>30</td>\n",
       "    </tr>\n",
       "    <tr>\n",
       "      <td>4</td>\n",
       "      <td>9/8/2002</td>\n",
       "      <td>2002</td>\n",
       "      <td>0</td>\n",
       "      <td>0</td>\n",
       "      <td>2002CIN</td>\n",
       "      <td>2002SD</td>\n",
       "      <td>0</td>\n",
       "      <td>0</td>\n",
       "      <td>0</td>\n",
       "      <td>1</td>\n",
       "      <td>...</td>\n",
       "      <td>19</td>\n",
       "      <td>69</td>\n",
       "      <td>3</td>\n",
       "      <td>0</td>\n",
       "      <td>21</td>\n",
       "      <td>13</td>\n",
       "      <td>8</td>\n",
       "      <td>22</td>\n",
       "      <td>8</td>\n",
       "      <td>22</td>\n",
       "    </tr>\n",
       "  </tbody>\n",
       "</table>\n",
       "<p>5 rows × 61 columns</p>\n",
       "</div>"
      ],
      "text/plain": [
       "       date  season  neutral  playoff    team1    team2  passingAtt_Adv  \\\n",
       "0  9/5/2002    2002        0        0  2002NYG   2002SF               1   \n",
       "1  9/8/2002    2002        0        0  2002CLE   2002KC               0   \n",
       "2  9/8/2002    2002        0        0  2002CHI  2002MIN               1   \n",
       "3  9/8/2002    2002        0        0  2002CAR  2002BAL               1   \n",
       "4  9/8/2002    2002        0        0  2002CIN   2002SD               0   \n",
       "\n",
       "   passingYdsG_Adv  passingQBR_Adv  rushingAtt_Adv  ...  rushingTDteam2  \\\n",
       "0                0               0               1  ...              16   \n",
       "1                1               1               1  ...              26   \n",
       "2                1               0               1  ...              26   \n",
       "3                1               1               0  ...               9   \n",
       "4                0               0               1  ...              19   \n",
       "\n",
       "   rushingBigteam2  rushingFumteam2  rushingFumLteam2  team1RushingRank  \\\n",
       "0               62                6                 5                14   \n",
       "1               73                3                 1                23   \n",
       "2               73               14                 6                32   \n",
       "3               43               13                 8                25   \n",
       "4               69                3                 0                21   \n",
       "\n",
       "   team1PassingRank  team2RushingRank  team2PassingRank  winPassingRank  \\\n",
       "0                 6                 6                14               6   \n",
       "1                18                 3                11               3   \n",
       "2                24                 1                 9              32   \n",
       "3                30                16                27              25   \n",
       "4                13                 8                22               8   \n",
       "\n",
       "   winRushingRank  \n",
       "0              14  \n",
       "1              11  \n",
       "2              24  \n",
       "3              30  \n",
       "4              22  \n",
       "\n",
       "[5 rows x 61 columns]"
      ]
     },
     "execution_count": 57,
     "metadata": {},
     "output_type": "execute_result"
    }
   ],
   "source": [
    "import pandas as pd\n",
    "import thinkstats2\n",
    "import thinkplot\n",
    "import statistics\n",
    "import numpy as np\n",
    "import random\n",
    "\n",
    "df = pd.read_csv(\"final_dataset.csv\")\n",
    "df.head()"
   ]
  },
  {
   "cell_type": "markdown",
   "metadata": {},
   "source": [
    "# Distributions"
   ]
  },
  {
   "cell_type": "markdown",
   "metadata": {},
   "source": [
    "## Histograms for Wins by Passing and Rushing Ranks"
   ]
  },
  {
   "cell_type": "code",
   "execution_count": 7,
   "metadata": {},
   "outputs": [
    {
     "name": "stdout",
     "output_type": "stream",
     "text": [
      "Mean:  15.173533083645443\n",
      "Median:  14.0\n",
      "Mode:  2\n",
      "2     172\n",
      "7     169\n",
      "6     149\n",
      "3     147\n",
      "4     145\n",
      "15    144\n",
      "11    144\n",
      "9     144\n",
      "1     142\n",
      "8     140\n",
      "18    136\n",
      "14    134\n",
      "10    133\n",
      "12    131\n",
      "27    129\n",
      "13    129\n",
      "20    127\n",
      "5     127\n",
      "24    124\n",
      "17    121\n",
      "16    117\n",
      "22    117\n",
      "25    113\n",
      "19    108\n",
      "31    102\n",
      "28    101\n",
      "29    100\n",
      "32     99\n",
      "30     97\n",
      "23     91\n",
      "21     90\n",
      "26     83\n",
      "Name: winPassingRank, dtype: int64\n",
      "Variance:  83.73736126545415\n",
      "Standard Deviation:  9.150812054973818\n"
     ]
    },
    {
     "data": {
      "image/png": "[encoded data removed]",
      "text/plain": [
       "<Figure size 432x288 with 1 Axes>"
      ]
     },
     "metadata": {
      "needs_background": "light"
     },
     "output_type": "display_data"
    },
    {
     "data": {
      "text/plain": [
       "<Figure size 576x432 with 0 Axes>"
      ]
     },
     "metadata": {},
     "output_type": "display_data"
    }
   ],
   "source": [
    "winPassRank = df['winPassingRank']\n",
    "print(\"Mean: \",winPassRank.mean())\n",
    "print(\"Median: \",winPassRank.median())\n",
    "print(\"Mode: \", statistics.mode(winPassRank))\n",
    "print(winPassRank.value_counts(sort=True))\n",
    "print(\"Variance: \", winPassRank.var())\n",
    "print(\"Standard Deviation: \", winPassRank.std())\n",
    "histPassRank = thinkstats2.Hist(winPassRank)\n",
    "thinkplot.Hist(histPassRank)\n",
    "thinkplot.Show(xlabel = 'Passing Rank', ylabel = 'Wins', title = \"Wins by Passing Ranks (2002-2016)\")"
   ]
  },
  {
   "cell_type": "code",
   "execution_count": 8,
   "metadata": {},
   "outputs": [
    {
     "name": "stdout",
     "output_type": "stream",
     "text": [
      "Mean:  15.135580524344569\n",
      "Median:  15.0\n",
      "Modes: 2 and 5\n",
      "2     171\n",
      "5     171\n",
      "1     164\n",
      "3     151\n",
      "17    150\n",
      "4     149\n",
      "19    140\n",
      "11    139\n",
      "12    138\n",
      "9     137\n",
      "6     136\n",
      "18    134\n",
      "14    133\n",
      "10    130\n",
      "16    127\n",
      "7     127\n",
      "15    119\n",
      "13    117\n",
      "8     115\n",
      "26    114\n",
      "30    113\n",
      "21    110\n",
      "23    109\n",
      "22    109\n",
      "29    109\n",
      "27    108\n",
      "20    107\n",
      "24    105\n",
      "28    103\n",
      "31    101\n",
      "25     98\n",
      "32     71\n",
      "Name: winRushingRank, dtype: int64\n",
      "Variance:  83.97037456925119\n",
      "Standard Deviation:  9.163535047635884\n"
     ]
    },
    {
     "data": {
      "image/png": "[encoded data removed]",
      "text/plain": [
       "<Figure size 432x288 with 1 Axes>"
      ]
     },
     "metadata": {
      "needs_background": "light"
     },
     "output_type": "display_data"
    },
    {
     "data": {
      "text/plain": [
       "<Figure size 576x432 with 0 Axes>"
      ]
     },
     "metadata": {},
     "output_type": "display_data"
    }
   ],
   "source": [
    "winRushRank = df['winRushingRank']\n",
    "print(\"Mean: \",winRushRank.mean())\n",
    "print(\"Median: \",winRushRank.median())\n",
    "print(\"Modes: 2 and 5\")\n",
    "print(winRushRank.value_counts(sort=True))\n",
    "print(\"Variance: \", winRushRank.var())\n",
    "print(\"Standard Deviation: \", winRushRank.std())\n",
    "histRushRank = thinkstats2.Hist(winRushRank)\n",
    "thinkplot.Hist(histRushRank)\n",
    "thinkplot.Show(xlabel = 'Rushing Rank', ylabel = 'Wins', title = \"Wins by Rushing Ranks (2002-2016)\")"
   ]
  },
  {
   "cell_type": "markdown",
   "metadata": {},
   "source": [
    "## Histograms for Dependent and Independent Variables"
   ]
  },
  {
   "cell_type": "code",
   "execution_count": 9,
   "metadata": {},
   "outputs": [
    {
     "name": "stdout",
     "output_type": "stream",
     "text": [
      "Mean:  0.5031210986267166\n",
      "Median:  1.0\n",
      "Mode:  1\n"
     ]
    },
    {
     "data": {
      "image/png": "[encoded data removed]",
      "text/plain": [
       "<Figure size 432x288 with 1 Axes>"
      ]
     },
     "metadata": {
      "needs_background": "light"
     },
     "output_type": "display_data"
    },
    {
     "data": {
      "text/plain": [
       "<Figure size 576x432 with 0 Axes>"
      ]
     },
     "metadata": {},
     "output_type": "display_data"
    }
   ],
   "source": [
    "passingAtt_Adv = df['passingAtt_Adv']\n",
    "print(\"Mean: \",passingAtt_Adv.mean())\n",
    "print(\"Median: \",passingAtt_Adv.median())\n",
    "print(\"Mode: \", statistics.mode(passingAtt_Adv))\n",
    "histpassingAtt_Adv = thinkstats2.Hist(passingAtt_Adv)\n",
    "thinkplot.Hist(histpassingAtt_Adv)\n",
    "thinkplot.Show(xlabel = 'Passing Attempts Advantage (Home = 0, Away = 1)', ylabel = 'Count', title = \"Which team had more passing attempts that season?\")\n"
   ]
  },
  {
   "cell_type": "code",
   "execution_count": 10,
   "metadata": {},
   "outputs": [
    {
     "name": "stdout",
     "output_type": "stream",
     "text": [
      "Mean:  0.49962546816479403\n",
      "Median:  0.0\n",
      "Mode:  0\n"
     ]
    },
    {
     "data": {
      "image/png": "[encoded data removed]",
      "text/plain": [
       "<Figure size 432x288 with 1 Axes>"
      ]
     },
     "metadata": {
      "needs_background": "light"
     },
     "output_type": "display_data"
    },
    {
     "data": {
      "text/plain": [
       "<Figure size 576x432 with 0 Axes>"
      ]
     },
     "metadata": {},
     "output_type": "display_data"
    }
   ],
   "source": [
    "passingYdsG_Adv = df['passingYdsG_Adv']\n",
    "print(\"Mean: \",passingYdsG_Adv.mean())\n",
    "print(\"Median: \",passingYdsG_Adv.median())\n",
    "print(\"Mode: \", statistics.mode(passingYdsG_Adv))\n",
    "histpassingYdsG_Adv = thinkstats2.Hist(passingYdsG_Adv)\n",
    "thinkplot.Hist(histpassingYdsG_Adv)\n",
    "thinkplot.Show(xlabel = 'Passing YPG Advantage (Home = 0, Away = 1)', ylabel = 'Wins', title = \"Which team had more passing ypg that season?\")"
   ]
  },
  {
   "cell_type": "code",
   "execution_count": 11,
   "metadata": {},
   "outputs": [
    {
     "name": "stdout",
     "output_type": "stream",
     "text": [
      "Mean:  0.5156054931335831\n",
      "Median:  1.0\n",
      "Mode:  1\n"
     ]
    },
    {
     "data": {
      "image/png": "[encoded data removed]",
      "text/plain": [
       "<Figure size 432x288 with 1 Axes>"
      ]
     },
     "metadata": {
      "needs_background": "light"
     },
     "output_type": "display_data"
    },
    {
     "data": {
      "text/plain": [
       "<Figure size 576x432 with 0 Axes>"
      ]
     },
     "metadata": {},
     "output_type": "display_data"
    }
   ],
   "source": [
    "passingQBR_Adv = df['passingQBR_Adv']\n",
    "print(\"Mean: \",passingQBR_Adv.mean())\n",
    "print(\"Median: \",passingQBR_Adv.median())\n",
    "print(\"Mode: \", statistics.mode(passingQBR_Adv))\n",
    "histpassingQBR_Adv = thinkstats2.Hist(passingQBR_Adv)\n",
    "thinkplot.Hist(histpassingQBR_Adv)\n",
    "thinkplot.Show(xlabel = 'Passing QBR Advantage (Home = 0, Away = 1)', ylabel = 'Wins', title = \"Which team had a higher QBR that season?\")"
   ]
  },
  {
   "cell_type": "code",
   "execution_count": 12,
   "metadata": {},
   "outputs": [
    {
     "name": "stdout",
     "output_type": "stream",
     "text": [
      "Mean:  0.4983770287141074\n",
      "Median:  0.0\n",
      "Mode:  0\n"
     ]
    },
    {
     "data": {
      "image/png": "[encoded data removed]",
      "text/plain": [
       "<Figure size 432x288 with 1 Axes>"
      ]
     },
     "metadata": {
      "needs_background": "light"
     },
     "output_type": "display_data"
    },
    {
     "data": {
      "text/plain": [
       "<Figure size 576x432 with 0 Axes>"
      ]
     },
     "metadata": {},
     "output_type": "display_data"
    }
   ],
   "source": [
    "rushingAtt_Adv = df['rushingAtt_Adv']\n",
    "print(\"Mean: \",rushingAtt_Adv.mean())\n",
    "print(\"Median: \",rushingAtt_Adv.median())\n",
    "print(\"Mode: \", statistics.mode(rushingAtt_Adv))\n",
    "histrushingAtt_Adv = thinkstats2.Hist(rushingAtt_Adv)\n",
    "thinkplot.Hist(histrushingAtt_Adv)\n",
    "thinkplot.Show(xlabel = 'Rushing Attempts Advantage (Home = 0, Away = 1)', ylabel = 'Wins', title = \"Which team had more rushing attempts that season?\")"
   ]
  },
  {
   "cell_type": "code",
   "execution_count": 13,
   "metadata": {},
   "outputs": [
    {
     "name": "stdout",
     "output_type": "stream",
     "text": [
      "Mean:  0.49812734082397003\n",
      "Median:  0.0\n",
      "Mode:  0\n"
     ]
    },
    {
     "data": {
      "image/png": "[encoded data removed]",
      "text/plain": [
       "<Figure size 432x288 with 1 Axes>"
      ]
     },
     "metadata": {
      "needs_background": "light"
     },
     "output_type": "display_data"
    },
    {
     "data": {
      "text/plain": [
       "<Figure size 576x432 with 0 Axes>"
      ]
     },
     "metadata": {},
     "output_type": "display_data"
    }
   ],
   "source": [
    "rushingYdsG_Adv = df['rushingYdsG_Adv']\n",
    "print(\"Mean: \",rushingYdsG_Adv.mean())\n",
    "print(\"Median: \",rushingYdsG_Adv.median())\n",
    "print(\"Mode: \", statistics.mode(rushingYdsG_Adv))\n",
    "histrushingYdsG_Adv = thinkstats2.Hist(rushingYdsG_Adv)\n",
    "thinkplot.Hist(histrushingYdsG_Adv)\n",
    "thinkplot.Show(xlabel = 'Rushing YPG Advantage (Home = 0, Away = 1)', ylabel = 'Wins', title = \"Which team had more rushing YPG that season?\")"
   ]
  },
  {
   "cell_type": "code",
   "execution_count": 14,
   "metadata": {},
   "outputs": [
    {
     "name": "stdout",
     "output_type": "stream",
     "text": [
      "Mean:  0.42247191011235957\n",
      "Median:  0.0\n",
      "Mode:  0\n"
     ]
    },
    {
     "data": {
      "image/png": "[encoded data removed]",
      "text/plain": [
       "<Figure size 432x288 with 1 Axes>"
      ]
     },
     "metadata": {
      "needs_background": "light"
     },
     "output_type": "display_data"
    },
    {
     "data": {
      "text/plain": [
       "<Figure size 576x432 with 0 Axes>"
      ]
     },
     "metadata": {},
     "output_type": "display_data"
    }
   ],
   "source": [
    "result1 = df['result1']\n",
    "print(\"Mean: \",result1.mean())\n",
    "print(\"Median: \",result1.median())\n",
    "print(\"Mode: \", statistics.mode(result1))\n",
    "histresult1 = thinkstats2.Hist(result1)\n",
    "thinkplot.Hist(histresult1)\n",
    "thinkplot.Show(xlabel = 'Result (Home = 0, Away = 1)', ylabel = 'Count', title = \"Which team won more games?\")"
   ]
  },
  {
   "cell_type": "markdown",
   "metadata": {},
   "source": [
    "## Histogram for Number of Advantages for a Team in a game"
   ]
  },
  {
   "cell_type": "code",
   "execution_count": 15,
   "metadata": {},
   "outputs": [
    {
     "name": "stdout",
     "output_type": "stream",
     "text": [
      "Mean:  2.5\n",
      "Median:  2.5\n",
      "Modes: 2 and 3\n",
      "3    2602\n",
      "2    2602\n",
      "1    1055\n",
      "4    1055\n",
      "5     348\n",
      "0     348\n",
      "dtype: int64\n",
      "Variance:  1.2983518541640655\n",
      "Standard Deviation:  1.1394524361130944\n"
     ]
    },
    {
     "data": {
      "image/png": "[encoded data removed]",
      "text/plain": [
       "<Figure size 432x288 with 1 Axes>"
      ]
     },
     "metadata": {
      "needs_background": "light"
     },
     "output_type": "display_data"
    },
    {
     "data": {
      "text/plain": [
       "<Figure size 576x432 with 0 Axes>"
      ]
     },
     "metadata": {},
     "output_type": "display_data"
    }
   ],
   "source": [
    "totteam1_Adv = df['totteam1_Adv']\n",
    "totteam2_Adv = df['totteam2_Adv']\n",
    "tot_Adv = totteam1_Adv.append(totteam2_Adv)\n",
    "print(\"Mean: \",tot_Adv.mean())\n",
    "print(\"Median: \",tot_Adv.median())\n",
    "print(\"Modes: 2 and 3\")\n",
    "print(tot_Adv.value_counts(sort=True))\n",
    "print(\"Variance: \", tot_Adv.var())\n",
    "print(\"Standard Deviation: \", tot_Adv.std())\n",
    "histtot_Adv = thinkstats2.Hist(tot_Adv)\n",
    "thinkplot.Hist(histtot_Adv)\n",
    "thinkplot.Show(xlabel = 'Number of Advantages', ylabel = 'Count', title = \"Number of Advantages for a Team in a Game (2002-2016)\")"
   ]
  },
  {
   "cell_type": "markdown",
   "metadata": {},
   "source": [
    "# PMF"
   ]
  },
  {
   "cell_type": "markdown",
   "metadata": {},
   "source": [
    "## Splitting Data"
   ]
  },
  {
   "cell_type": "code",
   "execution_count": 16,
   "metadata": {},
   "outputs": [
    {
     "data": {
      "image/png": "[encoded data removed]",
      "text/plain": [
       "<Figure size 432x288 with 1 Axes>"
      ]
     },
     "metadata": {
      "needs_background": "light"
     },
     "output_type": "display_data"
    },
    {
     "data": {
      "text/plain": [
       "<Figure size 576x432 with 0 Axes>"
      ]
     },
     "metadata": {},
     "output_type": "display_data"
    }
   ],
   "source": [
    "group1 = df[df.season < 2005]\n",
    "group2 = df[df.season >= 2014]\n",
    "\n",
    "group1Hist = thinkstats2.Hist(group1.winPassingRank, label='2002-2004')\n",
    "group2Hist = thinkstats2.Hist(group2.winPassingRank, label='2014-2016')\n",
    "\n",
    "width = 0.4\n",
    "thinkplot.PrePlot(2)\n",
    "thinkplot.Hist(group1Hist, align='right', width=width)\n",
    "thinkplot.Hist(group2Hist, align='left', width=width)\n",
    "thinkplot.Show(xlabel='Passing Rank', ylabel='Wins')\n"
   ]
  },
  {
   "cell_type": "markdown",
   "metadata": {},
   "source": [
    "## Create and Plot PMF"
   ]
  },
  {
   "cell_type": "code",
   "execution_count": 17,
   "metadata": {},
   "outputs": [
    {
     "data": {
      "image/png": "[encoded data removed]",
      "text/plain": [
       "<Figure size 864x432 with 2 Axes>"
      ]
     },
     "metadata": {
      "needs_background": "light"
     },
     "output_type": "display_data"
    },
    {
     "data": {
      "text/plain": [
       "<Figure size 576x432 with 0 Axes>"
      ]
     },
     "metadata": {},
     "output_type": "display_data"
    }
   ],
   "source": [
    "group1PMF = thinkstats2.Pmf(group1Hist)\n",
    "group2PMF = thinkstats2.Pmf(group2Hist)\n",
    "\n",
    "thinkplot.PrePlot(2, cols=2)\n",
    "thinkplot.Hist(group1PMF, align='right', width=width)\n",
    "thinkplot.Hist(group2PMF, align='left', width=width)\n",
    "thinkplot.Config(xlabel='Passing Rank', ylabel='probability', axis=[0, 33, 0, .06])\n",
    "\n",
    "thinkplot.PrePlot(2)\n",
    "thinkplot.SubPlot(2)\n",
    "thinkplot.Pmfs([group1PMF, group2PMF])\n",
    "thinkplot.Show(xlabel='Passing Rank', axis=[0, 33, 0, .06])\n"
   ]
  },
  {
   "cell_type": "markdown",
   "metadata": {},
   "source": [
    "# CDF"
   ]
  },
  {
   "cell_type": "code",
   "execution_count": 18,
   "metadata": {},
   "outputs": [
    {
     "name": "stdout",
     "output_type": "stream",
     "text": [
      "Cdf([ 1  2  3  4  5  6  7  8  9 10 11 12 13 14 15 16 17 18 19 20 21 22 23 24\n",
      " 25 26 27 28 29 30 31 32], [0.03545568 0.078402   0.11510612 0.15131086 0.18302122 0.22022472\n",
      " 0.26242197 0.29737828 0.33333333 0.36654182 0.40249688 0.43520599\n",
      " 0.46741573 0.50087391 0.53682896 0.56604245 0.59625468 0.63021223\n",
      " 0.65717853 0.68888889 0.7113608  0.74057428 0.76329588 0.79425718\n",
      " 0.82247191 0.843196   0.87540574 0.90062422 0.92559301 0.94981273\n",
      " 0.9752809  1.        ])\n"
     ]
    },
    {
     "data": {
      "image/png": "[encoded data removed]",
      "text/plain": [
       "<Figure size 432x288 with 1 Axes>"
      ]
     },
     "metadata": {
      "needs_background": "light"
     },
     "output_type": "display_data"
    },
    {
     "data": {
      "text/plain": [
       "<Figure size 576x432 with 0 Axes>"
      ]
     },
     "metadata": {},
     "output_type": "display_data"
    }
   ],
   "source": [
    "cdf = thinkstats2.Cdf(winPassRank)\n",
    "print(cdf)\n",
    "thinkplot.Cdf(cdf)\n",
    "thinkplot.Show(xlabel='Passing Rank', ylabel = 'CDF')"
   ]
  },
  {
   "cell_type": "markdown",
   "metadata": {},
   "source": [
    "This plot shows us that the proportion of wins by Passing Rank doesn't vary too much. In otherwords, a team with a particular Passing Rank does not win a considerable amount of time more often than the others."
   ]
  },
  {
   "cell_type": "code",
   "execution_count": 19,
   "metadata": {},
   "outputs": [
    {
     "name": "stdout",
     "output_type": "stream",
     "text": [
      "Cdf([ 1  2  3  4  5  6  7  8  9 10 11 12 13 14 15 16 17 18 19 20 21 22 23 24\n",
      " 25 26 27 28 29 30 31 32], [0.04094881 0.08364544 0.12134831 0.15855181 0.20124844 0.23520599\n",
      " 0.26691635 0.29563046 0.3298377  0.36229713 0.39700375 0.43146067\n",
      " 0.46067416 0.49388265 0.52359551 0.55530587 0.59275905 0.62621723\n",
      " 0.66117353 0.68789014 0.71535581 0.74257179 0.76978777 0.79600499\n",
      " 0.82047441 0.84893883 0.87590512 0.90162297 0.92883895 0.95705368\n",
      " 0.98227216 1.        ])\n"
     ]
    },
    {
     "data": {
      "image/png": "[encoded data removed]",
      "text/plain": [
       "<Figure size 432x288 with 1 Axes>"
      ]
     },
     "metadata": {
      "needs_background": "light"
     },
     "output_type": "display_data"
    },
    {
     "data": {
      "text/plain": [
       "<Figure size 576x432 with 0 Axes>"
      ]
     },
     "metadata": {},
     "output_type": "display_data"
    }
   ],
   "source": [
    "cdf = thinkstats2.Cdf(winRushRank)\n",
    "print(cdf)\n",
    "thinkplot.Cdf(cdf)\n",
    "thinkplot.Show(xlabel='Rushing Rank', ylabel = 'CDF')"
   ]
  },
  {
   "cell_type": "markdown",
   "metadata": {},
   "source": [
    "This plot shows us that the proportion of wins by Rushing Rank doesn't vary too much either. In otherwords, a team with a particular Rushing Rank does not win a considerable amount of time more often than the others."
   ]
  },
  {
   "cell_type": "markdown",
   "metadata": {},
   "source": [
    "# Analytical Distribution"
   ]
  },
  {
   "cell_type": "markdown",
   "metadata": {},
   "source": [
    "For this part of the project, I am going to plot the distribution of rushing YPG and passing YPG for teams between 2002-2016. This is getting away from the main question a little bit, but it will allow me to look at the problem from a different perspective."
   ]
  },
  {
   "cell_type": "code",
   "execution_count": 20,
   "metadata": {},
   "outputs": [
    {
     "data": {
      "text/html": [
       "<div>\n",
       "<style scoped>\n",
       "    .dataframe tbody tr th:only-of-type {\n",
       "        vertical-align: middle;\n",
       "    }\n",
       "\n",
       "    .dataframe tbody tr th {\n",
       "        vertical-align: top;\n",
       "    }\n",
       "\n",
       "    .dataframe thead th {\n",
       "        text-align: right;\n",
       "    }\n",
       "</style>\n",
       "<table border=\"1\" class=\"dataframe\">\n",
       "  <thead>\n",
       "    <tr style=\"text-align: right;\">\n",
       "      <th></th>\n",
       "      <th>YEAR</th>\n",
       "      <th>Team</th>\n",
       "      <th>GP</th>\n",
       "      <th>Comp</th>\n",
       "      <th>Att</th>\n",
       "      <th>Pct</th>\n",
       "      <th>Yds</th>\n",
       "      <th>Avg</th>\n",
       "      <th>Yds/G</th>\n",
       "      <th>TD</th>\n",
       "      <th>Int</th>\n",
       "      <th>QBR</th>\n",
       "      <th>Lng</th>\n",
       "    </tr>\n",
       "  </thead>\n",
       "  <tbody>\n",
       "    <tr>\n",
       "      <td>0</td>\n",
       "      <td>2002</td>\n",
       "      <td>ARZ</td>\n",
       "      <td>16</td>\n",
       "      <td>291</td>\n",
       "      <td>548</td>\n",
       "      <td>0.531</td>\n",
       "      <td>2740</td>\n",
       "      <td>5.0</td>\n",
       "      <td>171.3</td>\n",
       "      <td>18</td>\n",
       "      <td>22</td>\n",
       "      <td>63.7</td>\n",
       "      <td>80</td>\n",
       "    </tr>\n",
       "    <tr>\n",
       "      <td>1</td>\n",
       "      <td>2003</td>\n",
       "      <td>ARZ</td>\n",
       "      <td>16</td>\n",
       "      <td>303</td>\n",
       "      <td>534</td>\n",
       "      <td>0.567</td>\n",
       "      <td>2959</td>\n",
       "      <td>5.5</td>\n",
       "      <td>184.9</td>\n",
       "      <td>18</td>\n",
       "      <td>22</td>\n",
       "      <td>68.9</td>\n",
       "      <td>71</td>\n",
       "    </tr>\n",
       "    <tr>\n",
       "      <td>2</td>\n",
       "      <td>2004</td>\n",
       "      <td>ARZ</td>\n",
       "      <td>16</td>\n",
       "      <td>299</td>\n",
       "      <td>533</td>\n",
       "      <td>0.561</td>\n",
       "      <td>2882</td>\n",
       "      <td>5.4</td>\n",
       "      <td>180.1</td>\n",
       "      <td>14</td>\n",
       "      <td>18</td>\n",
       "      <td>68.5</td>\n",
       "      <td>48</td>\n",
       "    </tr>\n",
       "    <tr>\n",
       "      <td>3</td>\n",
       "      <td>2005</td>\n",
       "      <td>ARZ</td>\n",
       "      <td>16</td>\n",
       "      <td>419</td>\n",
       "      <td>670</td>\n",
       "      <td>0.625</td>\n",
       "      <td>4437</td>\n",
       "      <td>6.6</td>\n",
       "      <td>277.3</td>\n",
       "      <td>21</td>\n",
       "      <td>21</td>\n",
       "      <td>81.0</td>\n",
       "      <td>63</td>\n",
       "    </tr>\n",
       "    <tr>\n",
       "      <td>4</td>\n",
       "      <td>2006</td>\n",
       "      <td>ARZ</td>\n",
       "      <td>16</td>\n",
       "      <td>322</td>\n",
       "      <td>545</td>\n",
       "      <td>0.591</td>\n",
       "      <td>3662</td>\n",
       "      <td>6.7</td>\n",
       "      <td>228.9</td>\n",
       "      <td>17</td>\n",
       "      <td>17</td>\n",
       "      <td>78.7</td>\n",
       "      <td>64</td>\n",
       "    </tr>\n",
       "  </tbody>\n",
       "</table>\n",
       "</div>"
      ],
      "text/plain": [
       "   YEAR Team  GP  Comp  Att    Pct   Yds  Avg  Yds/G  TD  Int   QBR  Lng\n",
       "0  2002  ARZ  16   291  548  0.531  2740  5.0  171.3  18   22  63.7   80\n",
       "1  2003  ARZ  16   303  534  0.567  2959  5.5  184.9  18   22  68.9   71\n",
       "2  2004  ARZ  16   299  533  0.561  2882  5.4  180.1  14   18  68.5   48\n",
       "3  2005  ARZ  16   419  670  0.625  4437  6.6  277.3  21   21  81.0   63\n",
       "4  2006  ARZ  16   322  545  0.591  3662  6.7  228.9  17   17  78.7   64"
      ]
     },
     "execution_count": 20,
     "metadata": {},
     "output_type": "execute_result"
    }
   ],
   "source": [
    "df_pass = pd.read_csv(\"NFL Team Season Stats - Passing.csv\")\n",
    "df_pass.head()"
   ]
  },
  {
   "cell_type": "code",
   "execution_count": 21,
   "metadata": {},
   "outputs": [
    {
     "data": {
      "text/html": [
       "<div>\n",
       "<style scoped>\n",
       "    .dataframe tbody tr th:only-of-type {\n",
       "        vertical-align: middle;\n",
       "    }\n",
       "\n",
       "    .dataframe tbody tr th {\n",
       "        vertical-align: top;\n",
       "    }\n",
       "\n",
       "    .dataframe thead th {\n",
       "        text-align: right;\n",
       "    }\n",
       "</style>\n",
       "<table border=\"1\" class=\"dataframe\">\n",
       "  <thead>\n",
       "    <tr style=\"text-align: right;\">\n",
       "      <th></th>\n",
       "      <th>YEAR</th>\n",
       "      <th>Team</th>\n",
       "      <th>GP</th>\n",
       "      <th>Att</th>\n",
       "      <th>Yds</th>\n",
       "      <th>Avg</th>\n",
       "      <th>Yds/G</th>\n",
       "      <th>TD</th>\n",
       "      <th>Big</th>\n",
       "      <th>Fum</th>\n",
       "      <th>FumL</th>\n",
       "      <th>Stuff</th>\n",
       "      <th>Yds.1</th>\n",
       "    </tr>\n",
       "  </thead>\n",
       "  <tbody>\n",
       "    <tr>\n",
       "      <td>0</td>\n",
       "      <td>2002</td>\n",
       "      <td>ARZ</td>\n",
       "      <td>16</td>\n",
       "      <td>414</td>\n",
       "      <td>1823</td>\n",
       "      <td>4.4</td>\n",
       "      <td>113.9</td>\n",
       "      <td>10</td>\n",
       "      <td>53</td>\n",
       "      <td>16</td>\n",
       "      <td>9</td>\n",
       "      <td>29</td>\n",
       "      <td>-80</td>\n",
       "    </tr>\n",
       "    <tr>\n",
       "      <td>1</td>\n",
       "      <td>2003</td>\n",
       "      <td>ARZ</td>\n",
       "      <td>16</td>\n",
       "      <td>403</td>\n",
       "      <td>1531</td>\n",
       "      <td>3.8</td>\n",
       "      <td>95.7</td>\n",
       "      <td>5</td>\n",
       "      <td>45</td>\n",
       "      <td>12</td>\n",
       "      <td>5</td>\n",
       "      <td>48</td>\n",
       "      <td>-135</td>\n",
       "    </tr>\n",
       "    <tr>\n",
       "      <td>2</td>\n",
       "      <td>2004</td>\n",
       "      <td>ARZ</td>\n",
       "      <td>16</td>\n",
       "      <td>475</td>\n",
       "      <td>1668</td>\n",
       "      <td>3.5</td>\n",
       "      <td>104.3</td>\n",
       "      <td>15</td>\n",
       "      <td>42</td>\n",
       "      <td>8</td>\n",
       "      <td>3</td>\n",
       "      <td>43</td>\n",
       "      <td>-90</td>\n",
       "    </tr>\n",
       "    <tr>\n",
       "      <td>3</td>\n",
       "      <td>2005</td>\n",
       "      <td>ARZ</td>\n",
       "      <td>16</td>\n",
       "      <td>360</td>\n",
       "      <td>1138</td>\n",
       "      <td>3.2</td>\n",
       "      <td>71.1</td>\n",
       "      <td>2</td>\n",
       "      <td>30</td>\n",
       "      <td>10</td>\n",
       "      <td>5</td>\n",
       "      <td>52</td>\n",
       "      <td>-153</td>\n",
       "    </tr>\n",
       "    <tr>\n",
       "      <td>4</td>\n",
       "      <td>2006</td>\n",
       "      <td>ARZ</td>\n",
       "      <td>16</td>\n",
       "      <td>419</td>\n",
       "      <td>1338</td>\n",
       "      <td>3.2</td>\n",
       "      <td>83.6</td>\n",
       "      <td>12</td>\n",
       "      <td>24</td>\n",
       "      <td>11</td>\n",
       "      <td>5</td>\n",
       "      <td>42</td>\n",
       "      <td>-88</td>\n",
       "    </tr>\n",
       "  </tbody>\n",
       "</table>\n",
       "</div>"
      ],
      "text/plain": [
       "   YEAR Team  GP  Att   Yds  Avg  Yds/G  TD  Big  Fum  FumL  Stuff  Yds.1\n",
       "0  2002  ARZ  16  414  1823  4.4  113.9  10   53   16     9     29    -80\n",
       "1  2003  ARZ  16  403  1531  3.8   95.7   5   45   12     5     48   -135\n",
       "2  2004  ARZ  16  475  1668  3.5  104.3  15   42    8     3     43    -90\n",
       "3  2005  ARZ  16  360  1138  3.2   71.1   2   30   10     5     52   -153\n",
       "4  2006  ARZ  16  419  1338  3.2   83.6  12   24   11     5     42    -88"
      ]
     },
     "execution_count": 21,
     "metadata": {},
     "output_type": "execute_result"
    }
   ],
   "source": [
    "df_rush = pd.read_csv(\"NFL Team Season Stats - Rushing.csv\")\n",
    "df_rush.head()"
   ]
  },
  {
   "cell_type": "code",
   "execution_count": 22,
   "metadata": {},
   "outputs": [],
   "source": [
    "passingYPG = df_pass['Yds/G']\n",
    "rushingYPG = df_rush['Yds/G']"
   ]
  },
  {
   "cell_type": "code",
   "execution_count": 23,
   "metadata": {},
   "outputs": [],
   "source": [
    "def MakeNormalPlot(YPG): \n",
    "    mean = YPG.mean() \n",
    "    std = YPG.std()\n",
    "    \n",
    "    xs = [-4, 4]\n",
    "    fxs, fys = thinkstats2.FitLine(xs, inter=mean, slope=std)\n",
    "    thinkplot.Plot(fxs, fys, color='gray', label='model')\n",
    "    \n",
    "    xs, ys = thinkstats2.NormalProbability(YPG)\n",
    "    thinkplot.Plot(xs, ys, label='YPG')\n",
    "    \n",
    "    thinkplot.Show(xlabel='Standard Deviations from Mean', ylabel = 'YPG')"
   ]
  },
  {
   "cell_type": "code",
   "execution_count": 24,
   "metadata": {},
   "outputs": [
    {
     "data": {
      "image/png": "[encoded data removed]",
      "text/plain": [
       "<Figure size 432x288 with 1 Axes>"
      ]
     },
     "metadata": {
      "needs_background": "light"
     },
     "output_type": "display_data"
    },
    {
     "name": "stdout",
     "output_type": "stream",
     "text": [
      "221.26289062500024\n",
      "38.64914980525485\n"
     ]
    },
    {
     "data": {
      "text/plain": [
       "<Figure size 576x432 with 0 Axes>"
      ]
     },
     "metadata": {},
     "output_type": "display_data"
    }
   ],
   "source": [
    "MakeNormalPlot(passingYPG)\n",
    "print(passingYPG.mean())\n",
    "print(passingYPG.std())"
   ]
  },
  {
   "cell_type": "code",
   "execution_count": 25,
   "metadata": {},
   "outputs": [
    {
     "data": {
      "image/png": "[encoded data removed]",
      "text/plain": [
       "<Figure size 432x288 with 1 Axes>"
      ]
     },
     "metadata": {
      "needs_background": "light"
     },
     "output_type": "display_data"
    },
    {
     "name": "stdout",
     "output_type": "stream",
     "text": [
      "113.9513671875002\n",
      "20.90684300014748\n"
     ]
    },
    {
     "data": {
      "text/plain": [
       "<Figure size 576x432 with 0 Axes>"
      ]
     },
     "metadata": {},
     "output_type": "display_data"
    }
   ],
   "source": [
    "MakeNormalPlot(rushingYPG)\n",
    "print(rushingYPG.mean())\n",
    "print(rushingYPG.std())"
   ]
  },
  {
   "cell_type": "markdown",
   "metadata": {},
   "source": [
    "# Scatter Plots and Correlation"
   ]
  },
  {
   "cell_type": "code",
   "execution_count": 26,
   "metadata": {},
   "outputs": [],
   "source": [
    "def Cov(xs, ys, meanx=None, meany=None):\n",
    "    xs = np.asarray(xs)\n",
    "    ys = np.asarray(ys)\n",
    "\n",
    "    if meanx is None:\n",
    "        meanx = np.mean(xs)\n",
    "    if meany is None:\n",
    "        meany = np.mean(ys)\n",
    "\n",
    "    cov = np.dot(xs-meanx, ys-meany) / len(xs)\n",
    "    return cov\n",
    "\n",
    "def Corr(xs, ys):\n",
    "    xs = np.asarray(xs)\n",
    "    ys = np.asarray(ys)\n",
    "\n",
    "    meanx, varx = thinkstats2.MeanVar(xs)\n",
    "    meany, vary = thinkstats2.MeanVar(ys)\n",
    "\n",
    "    corr = Cov(xs, ys, meanx, meany) / np.sqrt(varx * vary)\n",
    "    return corr"
   ]
  },
  {
   "cell_type": "code",
   "execution_count": 27,
   "metadata": {},
   "outputs": [
    {
     "data": {
      "image/png": "[encoded data removed]",
      "text/plain": [
       "<Figure size 432x288 with 1 Axes>"
      ]
     },
     "metadata": {
      "needs_background": "light"
     },
     "output_type": "display_data"
    },
    {
     "data": {
      "text/plain": [
       "<Figure size 576x432 with 0 Axes>"
      ]
     },
     "metadata": {},
     "output_type": "display_data"
    }
   ],
   "source": [
    "thinkplot.Scatter(passingYPG, rushingYPG)\n",
    "thinkplot.Show(xlabel='Passing YPG', ylabel='Rushing YPG',\n",
    "axis=[100, 370, 50, 200])"
   ]
  },
  {
   "cell_type": "code",
   "execution_count": 28,
   "metadata": {},
   "outputs": [
    {
     "data": {
      "text/plain": [
       "-0.26626881830686056"
      ]
     },
     "execution_count": 28,
     "metadata": {},
     "output_type": "execute_result"
    }
   ],
   "source": [
    "Corr(passingYPG, rushingYPG)"
   ]
  },
  {
   "cell_type": "code",
   "execution_count": 29,
   "metadata": {},
   "outputs": [
    {
     "data": {
      "image/png": "[encoded data removed]",
      "text/plain": [
       "<Figure size 432x288 with 1 Axes>"
      ]
     },
     "metadata": {
      "needs_background": "light"
     },
     "output_type": "display_data"
    },
    {
     "data": {
      "text/plain": [
       "<Figure size 576x432 with 0 Axes>"
      ]
     },
     "metadata": {},
     "output_type": "display_data"
    }
   ],
   "source": [
    "qbr = df_pass['QBR']\n",
    "thinkplot.Scatter(passingYPG, qbr)\n",
    "thinkplot.Show(xlabel='Passing YPG', ylabel='QBR',\n",
    "axis=[100, 370, 30, 140])"
   ]
  },
  {
   "cell_type": "code",
   "execution_count": 30,
   "metadata": {},
   "outputs": [
    {
     "data": {
      "text/plain": [
       "0.7166724803409754"
      ]
     },
     "execution_count": 30,
     "metadata": {},
     "output_type": "execute_result"
    }
   ],
   "source": [
    "Corr(passingYPG, qbr)"
   ]
  },
  {
   "cell_type": "markdown",
   "metadata": {},
   "source": [
    "# Hypothesis Testing"
   ]
  },
  {
   "cell_type": "code",
   "execution_count": 61,
   "metadata": {},
   "outputs": [],
   "source": [
    "class HypothesisTest(object):\n",
    "    \n",
    "    def __init__(self, data):\n",
    "        self.data = data\n",
    "        self.MakeModel()\n",
    "        self.actual = self.TestStatistic(data)\n",
    "    \n",
    "    def PValue(self, iters=1000):\n",
    "        self.test_stats = [self.TestStatistic(self.RunModel())\n",
    "                           for _ in range(iters)]\n",
    "        count = sum(1 for x in self.test_stats if x >= self.actual)\n",
    "        return count / iters\n",
    "    \n",
    "    def TestStatistic(self, data):\n",
    "        raise UnimplementedMethodException()\n",
    "        \n",
    "    def MakeModel(self):\n",
    "        pass\n",
    "    \n",
    "    def RunModel(self):\n",
    "        raise UnimplementedMethodExcepti"
   ]
  },
  {
   "cell_type": "code",
   "execution_count": 60,
   "metadata": {},
   "outputs": [],
   "source": [
    "def getWinPercentage(stat, result):\n",
    "    wins = 0\n",
    "    for x in range(len(stat)):\n",
    "        if stat[x] == result [x]:\n",
    "            wins = wins + 1\n",
    "    winPercentage = wins / len(stat)\n",
    "    return winPercentage      "
   ]
  },
  {
   "cell_type": "code",
   "execution_count": 51,
   "metadata": {},
   "outputs": [
    {
     "name": "stdout",
     "output_type": "stream",
     "text": [
      "Passing Attempt Advantage Winning Percentage: 48.39%\n",
      "Passing YPG Advantage Winning Percentage: 57.78%\n",
      "QBR Advantage Winning Percentage: 51.54%\n",
      "Rushing Attempt Advantage Winning Percentage: 60.40%\n",
      "Rushing YPG Advantage Winning Percentage: 57.63%\n"
     ]
    }
   ],
   "source": [
    "print(\"Passing Attempt Advantage Winning Percentage: {0:.2f}%\".format(getWinPercentage(passingAtt_Adv, result1)*100))\n",
    "print(\"Passing YPG Advantage Winning Percentage: {0:.2f}%\".format(getWinPercentage(passingYdsG_Adv, result1)*100))\n",
    "print(\"QBR Advantage Winning Percentage: {0:.2f}%\".format(getWinPercentage(passingQBR_Adv, result1)*100))\n",
    "print(\"Rushing Attempt Advantage Winning Percentage: {0:.2f}%\".format(getWinPercentage(rushingAtt_Adv, result1)*100))\n",
    "print(\"Rushing YPG Advantage Winning Percentage: {0:.2f}%\".format(getWinPercentage(rushingYdsG_Adv, result1)*100))"
   ]
  },
  {
   "cell_type": "code",
   "execution_count": 59,
   "metadata": {},
   "outputs": [],
   "source": [
    "def getWinLoss(stat, result):\n",
    "    wins = 0\n",
    "    losses = 0\n",
    "    for x in range(len(stat)):\n",
    "        if stat[x] == result [x]:\n",
    "            wins = wins + 1\n",
    "        else:\n",
    "            losses = losses + 1\n",
    "    return wins, losses"
   ]
  },
  {
   "cell_type": "code",
   "execution_count": 67,
   "metadata": {},
   "outputs": [],
   "source": [
    "# From bias coin testing example in Think Stats\n",
    "class WinLossTest(thinkstats2.HypothesisTest):\n",
    "    \n",
    "    def TestStatistic(self, data):\n",
    "        wins, losses = data\n",
    "        test_stat = abs(wins - losses)\n",
    "        return test_stat\n",
    "    \n",
    "    def RunModel(self):\n",
    "        wins, losses = self.data\n",
    "        n = wins + losses\n",
    "        sample = [random.choice('WL')\n",
    "                  for _ in range(n)] \n",
    "        hist = thinkstats2.Hist(sample) \n",
    "        data = hist['W'], hist['L'] \n",
    "        return data"
   ]
  },
  {
   "cell_type": "code",
   "execution_count": 68,
   "metadata": {},
   "outputs": [
    {
     "name": "stdout",
     "output_type": "stream",
     "text": [
      "-129\n",
      "0.039\n"
     ]
    }
   ],
   "source": [
    "win_loss = getWinLoss(passingAtt_Adv,result1)\n",
    "print(win_loss[0]-win_loss[1])\n",
    "passAtt = CoinTest(win_loss)\n",
    "pvalue = passAtt.PValue()\n",
    "print(pvalue)"
   ]
  },
  {
   "cell_type": "code",
   "execution_count": 69,
   "metadata": {},
   "outputs": [
    {
     "name": "stdout",
     "output_type": "stream",
     "text": [
      "623\n",
      "0.0\n"
     ]
    }
   ],
   "source": [
    "win_loss = getWinLoss(passingYdsG_Adv,result1)\n",
    "print(win_loss[0]-win_loss[1])\n",
    "passAtt = CoinTest(win_loss)\n",
    "pvalue = passAtt.PValue()\n",
    "print(pvalue)"
   ]
  },
  {
   "cell_type": "code",
   "execution_count": 70,
   "metadata": {},
   "outputs": [
    {
     "name": "stdout",
     "output_type": "stream",
     "text": [
      "123\n",
      "0.056\n"
     ]
    }
   ],
   "source": [
    "win_loss = getWinLoss(passingQBR_Adv,result1)\n",
    "print(win_loss[0]-win_loss[1])\n",
    "passAtt = CoinTest(win_loss)\n",
    "pvalue = passAtt.PValue()\n",
    "print(pvalue)"
   ]
  },
  {
   "cell_type": "code",
   "execution_count": 71,
   "metadata": {},
   "outputs": [
    {
     "name": "stdout",
     "output_type": "stream",
     "text": [
      "833\n",
      "0.0\n"
     ]
    }
   ],
   "source": [
    "win_loss = getWinLoss(rushingAtt_Adv,result1)\n",
    "print(win_loss[0]-win_loss[1])\n",
    "passAtt = CoinTest(win_loss)\n",
    "pvalue = passAtt.PValue()\n",
    "print(pvalue)"
   ]
  },
  {
   "cell_type": "code",
   "execution_count": 72,
   "metadata": {},
   "outputs": [
    {
     "name": "stdout",
     "output_type": "stream",
     "text": [
      "611\n",
      "0.0\n"
     ]
    }
   ],
   "source": [
    "win_loss = getWinLoss(rushingYdsG_Adv,result1)\n",
    "print(win_loss[0]-win_loss[1])\n",
    "passAtt = CoinTest(win_loss)\n",
    "pvalue = passAtt.PValue()\n",
    "print(pvalue)"
   ]
  },
  {
   "cell_type": "markdown",
   "metadata": {},
   "source": [
    "# Logistic Regression Model"
   ]
  },
  {
   "cell_type": "code",
   "execution_count": 74,
   "metadata": {},
   "outputs": [
    {
     "name": "stdout",
     "output_type": "stream",
     "text": [
      "Optimization terminated successfully.\n",
      "         Current function value: 0.635841\n",
      "         Iterations 5\n"
     ]
    },
    {
     "data": {
      "text/html": [
       "<table class=\"simpletable\">\n",
       "<caption>Logit Regression Results</caption>\n",
       "<tr>\n",
       "  <th>Dep. Variable:</th>        <td>result1</td>     <th>  No. Observations:  </th>  <td>  4005</td>  \n",
       "</tr>\n",
       "<tr>\n",
       "  <th>Model:</th>                 <td>Logit</td>      <th>  Df Residuals:      </th>  <td>  3999</td>  \n",
       "</tr>\n",
       "<tr>\n",
       "  <th>Method:</th>                 <td>MLE</td>       <th>  Df Model:          </th>  <td>     5</td>  \n",
       "</tr>\n",
       "<tr>\n",
       "  <th>Date:</th>            <td>Sat, 29 Feb 2020</td> <th>  Pseudo R-squ.:     </th>  <td>0.06642</td> \n",
       "</tr>\n",
       "<tr>\n",
       "  <th>Time:</th>                <td>13:14:07</td>     <th>  Log-Likelihood:    </th> <td> -2546.5</td> \n",
       "</tr>\n",
       "<tr>\n",
       "  <th>converged:</th>             <td>True</td>       <th>  LL-Null:           </th> <td> -2727.7</td> \n",
       "</tr>\n",
       "<tr>\n",
       "  <th>Covariance Type:</th>     <td>nonrobust</td>    <th>  LLR p-value:       </th> <td>3.853e-76</td>\n",
       "</tr>\n",
       "</table>\n",
       "<table class=\"simpletable\">\n",
       "<tr>\n",
       "         <td></td>            <th>coef</th>     <th>std err</th>      <th>z</th>      <th>P>|z|</th>  <th>[0.025</th>    <th>0.975]</th>  \n",
       "</tr>\n",
       "<tr>\n",
       "  <th>Intercept</th>       <td>   -1.2918</td> <td>    0.087</td> <td>  -14.791</td> <td> 0.000</td> <td>   -1.463</td> <td>   -1.121</td>\n",
       "</tr>\n",
       "<tr>\n",
       "  <th>passingAtt_Adv</th>  <td>   -0.2647</td> <td>    0.088</td> <td>   -2.996</td> <td> 0.003</td> <td>   -0.438</td> <td>   -0.092</td>\n",
       "</tr>\n",
       "<tr>\n",
       "  <th>passingYdsG_Adv</th> <td>    1.0074</td> <td>    0.083</td> <td>   12.176</td> <td> 0.000</td> <td>    0.845</td> <td>    1.170</td>\n",
       "</tr>\n",
       "<tr>\n",
       "  <th>passingQBR_Adv</th>  <td>    0.1057</td> <td>    0.068</td> <td>    1.564</td> <td> 0.118</td> <td>   -0.027</td> <td>    0.238</td>\n",
       "</tr>\n",
       "<tr>\n",
       "  <th>rushingAtt_Adv</th>  <td>    0.8770</td> <td>    0.090</td> <td>    9.751</td> <td> 0.000</td> <td>    0.701</td> <td>    1.053</td>\n",
       "</tr>\n",
       "<tr>\n",
       "  <th>rushingYdsG_Adv</th> <td>    0.1751</td> <td>    0.089</td> <td>    1.957</td> <td> 0.050</td> <td>   -0.000</td> <td>    0.350</td>\n",
       "</tr>\n",
       "</table>"
      ],
      "text/plain": [
       "<class 'statsmodels.iolib.summary.Summary'>\n",
       "\"\"\"\n",
       "                           Logit Regression Results                           \n",
       "==============================================================================\n",
       "Dep. Variable:                result1   No. Observations:                 4005\n",
       "Model:                          Logit   Df Residuals:                     3999\n",
       "Method:                           MLE   Df Model:                            5\n",
       "Date:                Sat, 29 Feb 2020   Pseudo R-squ.:                 0.06642\n",
       "Time:                        13:14:07   Log-Likelihood:                -2546.5\n",
       "converged:                       True   LL-Null:                       -2727.7\n",
       "Covariance Type:            nonrobust   LLR p-value:                 3.853e-76\n",
       "===================================================================================\n",
       "                      coef    std err          z      P>|z|      [0.025      0.975]\n",
       "-----------------------------------------------------------------------------------\n",
       "Intercept          -1.2918      0.087    -14.791      0.000      -1.463      -1.121\n",
       "passingAtt_Adv     -0.2647      0.088     -2.996      0.003      -0.438      -0.092\n",
       "passingYdsG_Adv     1.0074      0.083     12.176      0.000       0.845       1.170\n",
       "passingQBR_Adv      0.1057      0.068      1.564      0.118      -0.027       0.238\n",
       "rushingAtt_Adv      0.8770      0.090      9.751      0.000       0.701       1.053\n",
       "rushingYdsG_Adv     0.1751      0.089      1.957      0.050      -0.000       0.350\n",
       "===================================================================================\n",
       "\"\"\""
      ]
     },
     "execution_count": 74,
     "metadata": {},
     "output_type": "execute_result"
    }
   ],
   "source": [
    "import statsmodels.formula.api as smf\n",
    "model = smf.logit('result1 ~ passingAtt_Adv + passingYdsG_Adv + passingQBR_Adv + rushingAtt_Adv + rushingYdsG_Adv', data=df)\n",
    "results = model.fit()\n",
    "results.summary()"
   ]
  },
  {
   "cell_type": "code",
   "execution_count": 75,
   "metadata": {},
   "outputs": [],
   "source": [
    "endog = pd.DataFrame(model.endog, columns=[model.endog_names])\n",
    "exog = pd.DataFrame(model.exog, columns=model.exog_names)"
   ]
  },
  {
   "cell_type": "code",
   "execution_count": 76,
   "metadata": {},
   "outputs": [
    {
     "data": {
      "text/plain": [
       "0.42247191011235957"
      ]
     },
     "execution_count": 76,
     "metadata": {},
     "output_type": "execute_result"
    }
   ],
   "source": [
    "actual = endog['result1']\n",
    "baseline = actual.mean()\n",
    "baseline"
   ]
  },
  {
   "cell_type": "code",
   "execution_count": 127,
   "metadata": {},
   "outputs": [
    {
     "name": "stdout",
     "output_type": "stream",
     "text": [
      "True Positives: 525\n",
      "True Negatives: 2016\n",
      "False Positives: 297\n",
      "False Negatives: 1167\n"
     ]
    }
   ],
   "source": [
    "predict = results.predict() >= 0.5  \n",
    "\n",
    "def getTruePos(pred, act):\n",
    "    truePos = 0\n",
    "    for x in range(len(pred)):\n",
    "        if pred[x]==act[x] and pred[x] == 1:\n",
    "                   truePos = truePos + 1\n",
    "    return truePos\n",
    "\n",
    "def getTrueNeg(pred, act):\n",
    "    trueNeg = 0\n",
    "    for x in range(len(pred)):\n",
    "        if pred[x]==act[x] and pred[x] == 0:\n",
    "                   trueNeg = trueNeg + 1\n",
    "    return trueNeg\n",
    "\n",
    "def getFalsePos(pred, act):\n",
    "    falsePos = 0\n",
    "    for x in range(len(pred)):\n",
    "        if pred[x]!=act[x] and pred[x] == 1:\n",
    "                   falsePos = falsePos + 1\n",
    "    return falsePos\n",
    "\n",
    "def getFalseNeg(pred, act):\n",
    "    falseNeg = 0\n",
    "    for x in range(len(pred)):\n",
    "        if pred[x]!=act[x] and pred[x] == 0:\n",
    "                   falseNeg = falseNeg + 1\n",
    "    return falseNeg\n",
    "\n",
    "truePos = getTruePos(predict, actual)\n",
    "trueNeg = getTrueNeg(predict, actual)\n",
    "falsePos = getFalsePos(predict, actual)\n",
    "falseNeg = getFalseNeg(predict, actual)\n",
    "\n",
    "print('True Positives: {}'.format(truePos))\n",
    "print('True Negatives: {}'.format(trueNeg))\n",
    "print('False Positives: {}'.format(falsePos))\n",
    "print('False Negatives: {}'.format(falseNeg))"
   ]
  },
  {
   "cell_type": "code",
   "execution_count": 129,
   "metadata": {},
   "outputs": [
    {
     "name": "stdout",
     "output_type": "stream",
     "text": [
      "Accuracy: 0.6345\n",
      "Precision: 0.6387\n",
      "Recall: 0.3103\n"
     ]
    }
   ],
   "source": [
    "accuracy = (truePos + trueNeg) / (truePos + trueNeg + falsePos + falseNeg)\n",
    "precision = truePos / (truePos + falsePos)\n",
    "recall = truePos / (truePos + falseNeg)\n",
    "\n",
    "print('Accuracy: {0:.4f}'.format(accuracy))\n",
    "print('Precision: {0:.4f}'.format(precision))\n",
    "print('Recall: {0:.4f}'.format(recall))"
   ]
  },
  {
   "cell_type": "code",
   "execution_count": 105,
   "metadata": {},
   "outputs": [
    {
     "data": {
      "text/plain": [
       "0    0.683\n",
       "dtype: float64"
      ]
     },
     "execution_count": 105,
     "metadata": {},
     "output_type": "execute_result"
    }
   ],
   "source": [
    "columns = ['passingAtt_Adv', 'passingYdsG_Adv', 'passingQBR_Adv', 'rushingAtt_Adv', 'rushingYdsG_Adv']\n",
    "new = pd.DataFrame([[0, 0, 0, 0, 0]], columns=columns)\n",
    "results.predict(new)"
   ]
  },
  {
   "cell_type": "code",
   "execution_count": 106,
   "metadata": {},
   "outputs": [
    {
     "data": {
      "text/plain": [
       "0    0.647626\n",
       "dtype: float64"
      ]
     },
     "execution_count": 106,
     "metadata": {},
     "output_type": "execute_result"
    }
   ],
   "source": [
    "new = pd.DataFrame([[1, 1, 1, 1, 1]], columns=columns)\n",
    "results.predict(new)"
   ]
  },
  {
   "cell_type": "code",
   "execution_count": 107,
   "metadata": {},
   "outputs": [
    {
     "data": {
      "text/plain": [
       "0    0.683\n",
       "dtype: float64"
      ]
     },
     "execution_count": 107,
     "metadata": {},
     "output_type": "execute_result"
    }
   ],
   "source": [
    "new = pd.DataFrame([[0, 1, 0, 1, 1]], columns=columns)\n",
    "results.predict(new)"
   ]
  },
  {
   "cell_type": "code",
   "execution_count": 130,
   "metadata": {},
   "outputs": [
    {
     "data": {
      "text/plain": [
       "0    0.440335\n",
       "dtype: float64"
      ]
     },
     "execution_count": 130,
     "metadata": {},
     "output_type": "execute_result"
    }
   ],
   "source": [
    "new = pd.DataFrame([[0, 0, 0, 1, 1]], columns=columns)\n",
    "results.predict(new)"
   ]
  },
  {
   "cell_type": "code",
   "execution_count": 131,
   "metadata": {},
   "outputs": [
    {
     "data": {
      "text/plain": [
       "0    0.390926\n",
       "dtype: float64"
      ]
     },
     "execution_count": 131,
     "metadata": {},
     "output_type": "execute_result"
    }
   ],
   "source": [
    "new = pd.DataFrame([[1, 1, 1, 0, 0]], columns=columns)\n",
    "results.predict(new)"
   ]
  },
  {
   "cell_type": "code",
   "execution_count": 132,
   "metadata": {},
   "outputs": [
    {
     "data": {
      "text/plain": [
       "0    0.45544\n",
       "dtype: float64"
      ]
     },
     "execution_count": 132,
     "metadata": {},
     "output_type": "execute_result"
    }
   ],
   "source": [
    "new = pd.DataFrame([[0, 1, 1, 0, 0]], columns=columns)\n",
    "results.predict(new)"
   ]
  }
 ],
 "metadata": {
  "kernelspec": {
   "display_name": "Python 3",
   "language": "python",
   "name": "python3"
  },
  "language_info": {
   "codemirror_mode": {
    "name": "ipython",
    "version": 3
   },
   "file_extension": ".py",
   "mimetype": "text/x-python",
   "name": "python",
   "nbconvert_exporter": "python",
   "pygments_lexer": "ipython3",
   "version": "3.7.4"
  }
 },
 "nbformat": 4,
 "nbformat_minor": 2
}
